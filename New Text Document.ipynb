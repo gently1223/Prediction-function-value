{
 "cells": [
  {
   "cell_type": "code",
   "execution_count": 13,
   "metadata": {},
   "outputs": [],
   "source": [
    "import numpy as np\n",
    "import tensorflow as tf\n",
    "tf.compat.v1.disable_eager_execution()"
   ]
  },
  {
   "cell_type": "code",
   "execution_count": 23,
   "metadata": {},
   "outputs": [],
   "source": [
    "x1=tf.compat.v1.placeholder(tf.float32)\n",
    "x2=tf.compat.v1.placeholder(tf.float32)\n",
    "y=tf.compat.v1.placeholder(tf.float32)"
   ]
  },
  {
   "cell_type": "code",
   "execution_count": 24,
   "metadata": {},
   "outputs": [],
   "source": [
    "w1=tf.Variable(np.random.rand())\n",
    "w2=tf.Variable(np.random.rand())\n",
    "w3=tf.Variable(np.random.rand())\n",
    "y1=tf.multiply(w1, x1)\n",
    "y2=tf.multiply(w2, x2)\n",
    "y3=tf.add(y1, y2)\n",
    "y4=tf.maximum(y1, y2)\n",
    "y5=tf.add(tf.multiply(y3, w3), y4)\n",
    "y6=tf.subtract(y3, y4)\n",
    "y7=tf.sigmoid(y5)\n",
    "y8=tf.tanh(y6)\n",
    "y_pred=tf.add(y7, y8)\n",
    "\n"
   ]
  },
  {
   "cell_type": "code",
   "execution_count": 26,
   "metadata": {},
   "outputs": [
    {
     "ename": "TypeError",
     "evalue": "Missing required positional argument",
     "output_type": "error",
     "traceback": [
      "\u001b[1;31m---------------------------------------------------------------------------\u001b[0m",
      "\u001b[1;31mTypeError\u001b[0m                                 Traceback (most recent call last)",
      "Cell \u001b[1;32mIn[26], line 43\u001b[0m\n\u001b[0;32m     41\u001b[0m learning_rate\u001b[39m=\u001b[39m\u001b[39m0.01\u001b[39m\n\u001b[0;32m     42\u001b[0m batch_size\u001b[39m=\u001b[39m\u001b[39m1\u001b[39m\n\u001b[1;32m---> 43\u001b[0m e\u001b[39m=\u001b[39mtf\u001b[39m.\u001b[39mreduce_mean(tf\u001b[39m.\u001b[39;49mpow(y_pred\u001b[39m-\u001b[39;49my), \u001b[39m2\u001b[39m)\n\u001b[0;32m     44\u001b[0m optimizer\u001b[39m=\u001b[39mtf\u001b[39m.\u001b[39mtrain\u001b[39m.\u001b[39mGradientDescentOptimizer(learning_rate)\u001b[39m.\u001b[39mminimize(e)\n\u001b[0;32m     45\u001b[0m init\u001b[39m=\u001b[39mtf\u001b[39m.\u001b[39mcompat\u001b[39m.\u001b[39mv1\u001b[39m.\u001b[39mglobal_variables_initializer\n",
      "File \u001b[1;32mc:\\Users\\James\\AppData\\Local\\Programs\\Python\\Python310\\lib\\site-packages\\tensorflow\\python\\util\\traceback_utils.py:153\u001b[0m, in \u001b[0;36mfilter_traceback.<locals>.error_handler\u001b[1;34m(*args, **kwargs)\u001b[0m\n\u001b[0;32m    151\u001b[0m \u001b[39mexcept\u001b[39;00m \u001b[39mException\u001b[39;00m \u001b[39mas\u001b[39;00m e:\n\u001b[0;32m    152\u001b[0m   filtered_tb \u001b[39m=\u001b[39m _process_traceback_frames(e\u001b[39m.\u001b[39m__traceback__)\n\u001b[1;32m--> 153\u001b[0m   \u001b[39mraise\u001b[39;00m e\u001b[39m.\u001b[39mwith_traceback(filtered_tb) \u001b[39mfrom\u001b[39;00m \u001b[39mNone\u001b[39m\n\u001b[0;32m    154\u001b[0m \u001b[39mfinally\u001b[39;00m:\n\u001b[0;32m    155\u001b[0m   \u001b[39mdel\u001b[39;00m filtered_tb\n",
      "File \u001b[1;32mc:\\Users\\James\\AppData\\Local\\Programs\\Python\\Python310\\lib\\site-packages\\tensorflow\\python\\util\\dispatch.py:1170\u001b[0m, in \u001b[0;36madd_dispatch_support.<locals>.decorator.<locals>.op_dispatch_handler\u001b[1;34m(*args, **kwargs)\u001b[0m\n\u001b[0;32m   1168\u001b[0m \u001b[39mif\u001b[39;00m iterable_params \u001b[39mis\u001b[39;00m \u001b[39mnot\u001b[39;00m \u001b[39mNone\u001b[39;00m:\n\u001b[0;32m   1169\u001b[0m   args, kwargs \u001b[39m=\u001b[39m replace_iterable_params(args, kwargs, iterable_params)\n\u001b[1;32m-> 1170\u001b[0m result \u001b[39m=\u001b[39m api_dispatcher\u001b[39m.\u001b[39;49mDispatch(args, kwargs)\n\u001b[0;32m   1171\u001b[0m \u001b[39mif\u001b[39;00m result \u001b[39mis\u001b[39;00m \u001b[39mnot\u001b[39;00m \u001b[39mNotImplemented\u001b[39m:\n\u001b[0;32m   1172\u001b[0m   \u001b[39mreturn\u001b[39;00m result\n",
      "\u001b[1;31mTypeError\u001b[0m: Missing required positional argument"
     ]
    }
   ],
   "source": [
    "import numpy as np\n",
    "import tensorflow as tf\n",
    "tf.compat.v1.disable_eager_execution()\n",
    "\n",
    "def func(x1, x2, w):\n",
    "    y1=x1*w[0]\n",
    "    y2=x2*w[1]\n",
    "    y3=y1+y2\n",
    "    y4=np.max(y1, y2)\n",
    "    y5=y3*w[2]+y4\n",
    "    y6=y3-y4\n",
    "    y7=1/(1+np.exp(-y5))\n",
    "    y8=np.tanh(y6)\n",
    "    y=y7+y8\n",
    "    return y \n",
    "\n",
    "def get_data():\n",
    "    x1=np.random.rand(10000)*10\n",
    "    x2=np.random.rand(10000)*10\n",
    "    w=[0.9, 0.4, 0.4]\n",
    "    y=func(x1, x2, w)\n",
    "    return x1, x2, y\n",
    "\n",
    "x1=tf.compat.v1.placeholder(tf.float32)\n",
    "x2=tf.compat.v1.placeholder(tf.float32)\n",
    "y=tf.compat.v1.placeholder(tf.float32)\n",
    "\n",
    "w1=tf.Variable(np.random.rand())\n",
    "w2=tf.Variable(np.random.rand())\n",
    "w3=tf.Variable(np.random.rand())\n",
    "y1=tf.multiply(w1, x1)\n",
    "y2=tf.multiply(w2, x2)\n",
    "y3=tf.add(y1, y2)\n",
    "y4=tf.maximum(y1, y2)\n",
    "y5=tf.add(tf.multiply(y3, w3), y4)\n",
    "y6=tf.subtract(y3, y4)\n",
    "y7=tf.sigmoid(y5)\n",
    "y8=tf.tanh(y6)\n",
    "y_pred=tf.add(y7, y8)\n",
    "\n",
    "learning_rate=0.01\n",
    "batch_size=1\n",
    "e=tf.reduce_mean(tf.pow(y_pred-y), 2)\n",
    "optimizer=tf.train.GradientDescentOptimizer(learning_rate).minimize(e)\n",
    "init=tf.compat.v1.global_variables_initializer\n",
    "with tf.combat.v1.Session() as sess:\n",
    "    sess.run(init)\n",
    "    xx1, xx2, yy=get_data()\n",
    "    step=3\n",
    "    for i in range(step):\n",
    "        for j in range(10000//batch_size):\n",
    "            sess.run(optimizer, feed_dict={x1:xx1[j*batch_size:j*batch_size+batch_size], x2:xx2[j*batch_size:j*batch_size+batch_size], y:yy[j*batch_size:j*batch_size+batch_size]})\n",
    "    ww1=sess.run(w1)\n",
    "    ww2=sess.run(w2)\n",
    "    ww3=sess.run(w3)\n",
    "    print(ww1, ww2, ww3)"
   ]
  },
  {
   "cell_type": "code",
   "execution_count": null,
   "metadata": {},
   "outputs": [],
   "source": []
  }
 ],
 "metadata": {
  "kernelspec": {
   "display_name": "Python 3",
   "language": "python",
   "name": "python3"
  },
  "language_info": {
   "codemirror_mode": {
    "name": "ipython",
    "version": 3
   },
   "file_extension": ".py",
   "mimetype": "text/x-python",
   "name": "python",
   "nbconvert_exporter": "python",
   "pygments_lexer": "ipython3",
   "version": "3.10.8"
  },
  "orig_nbformat": 4,
  "vscode": {
   "interpreter": {
    "hash": "e97064513f0d268e2f073204e543b8077386c7433ee9f7232070081c2302a999"
   }
  }
 },
 "nbformat": 4,
 "nbformat_minor": 2
}
